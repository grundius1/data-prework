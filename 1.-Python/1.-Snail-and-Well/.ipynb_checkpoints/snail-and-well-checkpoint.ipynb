{
 "cells": [
  {
   "cell_type": "markdown",
   "metadata": {},
   "source": [
    "# The Snail and the Well\n",
    "\n",
    "A snail falls at the bottom of a 125 cm well. Each day the snail rises 30 cm. But at night, while sleeping, slides 20 cm because the walls are wet. How many days does it take for the snail to escape the well?\n",
    "\n",
    "**Hint**: The snail gets out of the well when it surpasses the 125cm of height.\n",
    "\n",
    "## Tools\n",
    "\n",
    "1. Loop: **while**\n",
    "2. Conditional statements: **if-else**\n",
    "3. Function: **print()**\n",
    "\n",
    "## Tasks\n",
    "\n",
    "#### 1. Assign the challenge data to variables with representative names: `well_height`, `daily_distance`, `nightly_distance` and `snail_position`."
   ]
  },
  {
   "cell_type": "code",
   "execution_count": 1,
   "metadata": {},
   "outputs": [],
   "source": [
    "well_height = 125\n",
    "daily_distance = 30\n",
    "nightly_distance = 20\n",
    "snail_position = 0"
   ]
  },
  {
   "cell_type": "markdown",
   "metadata": {},
   "source": [
    "#### 2. Create a variable `days` to keep count of the days that pass until the snail escapes the well. "
   ]
  },
  {
   "cell_type": "code",
   "execution_count": 2,
   "metadata": {},
   "outputs": [],
   "source": [
    "days = 0"
   ]
  },
  {
   "cell_type": "markdown",
   "metadata": {},
   "source": [
    "#### 3. Find the solution to the challenge using the variables defined above. "
   ]
  },
  {
   "cell_type": "code",
   "execution_count": 3,
   "metadata": {},
   "outputs": [],
   "source": [
    "while True:\n",
    "    if snail_position >= well_height:\n",
    "        break\n",
    "    else:\n",
    "        snail_position += daily_distance - nightly_distance\n",
    "        days += 1"
   ]
  },
  {
   "cell_type": "markdown",
   "metadata": {},
   "source": [
    "#### 4. Prinzt the solution."
   ]
  },
  {
   "cell_type": "code",
   "execution_count": 4,
   "metadata": {},
   "outputs": [
    {
     "name": "stdout",
     "output_type": "stream",
     "text": [
      "13\n"
     ]
    }
   ],
   "source": [
    "print (days)"
   ]
  },
  {
   "cell_type": "markdown",
   "metadata": {},
   "source": [
    "## Bonus\n",
    "The distance traveled by the snail each day is now defined by a list.\n",
    "```\n",
    "advance_cm = [30, 21, 33, 77, 44, 45, 23, 45, 12, 34, 55]\n",
    "```\n",
    "On the first day, the snail rises 30cm but during the night it slides 20cm. On the second day, the snail rises 21cm but during the night it slides 20cm, and so on. \n",
    "\n",
    "#### 1. How many days does it take for the snail to escape the well?\n",
    "Follow the same guidelines as in the previous challenge.\n",
    "\n",
    "**Hint**: Remember that the snail gets out of the well when it surpasses the 125cm of height."
   ]
  },
  {
   "cell_type": "code",
   "execution_count": 5,
   "metadata": {},
   "outputs": [
    {
     "name": "stdout",
     "output_type": "stream",
     "text": [
      "6\n"
     ]
    }
   ],
   "source": [
    "well_height = 125\n",
    "advance_cm = [30, 21, 33, 77, 44, 45, 23, 45, 12, 34, 55]\n",
    "nightly_distance = 20\n",
    "snail_position = 0\n",
    "\n",
    "days = 0\n",
    "\n",
    "for item in advance_cm:\n",
    "    if snail_position >= well_height:\n",
    "        break\n",
    "    else:\n",
    "        snail_position += item - nightly_distance\n",
    "        days += 1\n",
    "        #print(f\"days {days} meters {snail_position}\")\n",
    "        \n",
    "print (days)\n",
    "#6"
   ]
  },
  {
   "cell_type": "markdown",
   "metadata": {},
   "source": [
    "#### 2. What is its maximum displacement in one day? And its minimum? Calculate the displacement using only the travel distance of the days used to get out of the well. \n",
    "**Hint**: Remember that displacement means the total distance risen taking into account that the snail slides at night.  "
   ]
  },
  {
   "cell_type": "code",
   "execution_count": 6,
   "metadata": {},
   "outputs": [
    {
     "name": "stdout",
     "output_type": "stream",
     "text": [
      "6\n",
      "57\n",
      "1\n"
     ]
    }
   ],
   "source": [
    "well_height = 125\n",
    "advance_cm = [30, 21, 33, 77, 44, 45, 23, 45, 12, 34, 55]\n",
    "nightly_distance = 20\n",
    "snail_position = 0\n",
    "\n",
    "days = 0\n",
    "\n",
    "max_displacement = 0\n",
    "min_displacement = well_height\n",
    "\n",
    "for item in advance_cm:\n",
    "    if snail_position >= well_height:\n",
    "        break\n",
    "    else:\n",
    "        snail_position += item - nightly_distance\n",
    "        days += 1\n",
    "        if item - nightly_distance > max_displacement:\n",
    "            max_displacement = item - nightly_distance\n",
    "        if item - nightly_distance < min_displacement:\n",
    "            min_displacement = item - nightly_distance\n",
    "        #print(f\"days {days} meters {snail_position}\")\n",
    "\n",
    "print (days) #6\n",
    "print (max_displacement) #57\n",
    "print (min_displacement) #1"
   ]
  },
  {
   "cell_type": "markdown",
   "metadata": {},
   "source": [
    "#### 3. What is its average progress? Take into account the snail slides at night."
   ]
  },
  {
   "cell_type": "code",
   "execution_count": 7,
   "metadata": {},
   "outputs": [
    {
     "name": "stdout",
     "output_type": "stream",
     "text": [
      "6\n",
      "57\n",
      "1\n",
      "21.666666666666668\n"
     ]
    }
   ],
   "source": [
    "well_height = 125\n",
    "advance_cm = [30, 21, 33, 77, 44, 45, 23, 45, 12, 34, 55]\n",
    "nightly_distance = 20\n",
    "snail_position = 0\n",
    "\n",
    "days = 0\n",
    "distances = []\n",
    "\n",
    "max_displacement = 0\n",
    "min_displacement = well_height\n",
    "\n",
    "for item in advance_cm:\n",
    "    if snail_position >= well_height:\n",
    "        break\n",
    "    else:\n",
    "        snail_position += item - nightly_distance\n",
    "        distances.append(item - nightly_distance)\n",
    "        days += 1\n",
    "        \"\"\"if item - nightly_distance > max_displacement:\n",
    "            max_displacement = item - nightly_distance\n",
    "        if item - nightly_distance < min_displacement:\n",
    "            min_displacement = item - nightly_distance\n",
    "        #print(f\"days {days} meters {snail_position}\")\"\"\"\n",
    "\n",
    "print (days)\n",
    "print (max(distances))\n",
    "print (min(distances))\n",
    "print (sum(distances) / len(distances)) #21.666666"
   ]
  },
  {
   "cell_type": "markdown",
   "metadata": {},
   "source": [
    "#### 4. What is the standard deviation of its displacement? Take into account the snail slides at night."
   ]
  },
  {
   "cell_type": "code",
   "execution_count": 8,
   "metadata": {},
   "outputs": [
    {
     "name": "stdout",
     "output_type": "stream",
     "text": [
      "6\n",
      "57\n",
      "1\n",
      "21.666666666666668\n",
      "17.81073334319006\n"
     ]
    }
   ],
   "source": [
    "from math import sqrt\n",
    "\n",
    "\n",
    "well_height = 125\n",
    "advance_cm = [30, 21, 33, 77, 44, 45, 23, 45, 12, 34, 55]\n",
    "nightly_distance = 20\n",
    "snail_position = 0\n",
    "\n",
    "days = 0\n",
    "distances = []\n",
    "\n",
    "max_displacement = 0\n",
    "min_displacement = well_height\n",
    "\n",
    "for item in advance_cm:\n",
    "    if snail_position >= well_height:\n",
    "        break\n",
    "    else:\n",
    "        snail_position += item - nightly_distance\n",
    "        distances.append(item - nightly_distance)\n",
    "        days += 1\n",
    "        \"\"\"if item - nightly_distance > max_displacement:\n",
    "            max_displacement = item - nightly_distance\n",
    "        if item - nightly_distance < min_displacement:\n",
    "            min_displacement = item - nightly_distance\n",
    "        #print(f\"days {days} meters {snail_position}\")\"\"\"\n",
    "\n",
    "print (days)\n",
    "print (max(distances))\n",
    "print (min(distances))\n",
    "print (sum(distances) / len(distances))\n",
    "\n",
    "def standard_desviation (distances):\n",
    "    media = sum(distances) / len(distances)\n",
    "    sumatorio = 0\n",
    "    for item in distances:\n",
    "        sumatorio += abs(item-media) ** 2\n",
    "    desviation = sqrt(sumatorio / len(distances))\n",
    "    return desviation\n",
    "\n",
    "print (standard_desviation(distances)) #17.8107"
   ]
  }
 ],
 "metadata": {
  "kernelspec": {
   "display_name": "Python 3",
   "language": "python",
   "name": "python3"
  },
  "language_info": {
   "codemirror_mode": {
    "name": "ipython",
    "version": 3
   },
   "file_extension": ".py",
   "mimetype": "text/x-python",
   "name": "python",
   "nbconvert_exporter": "python",
   "pygments_lexer": "ipython3",
   "version": "3.7.6"
  }
 },
 "nbformat": 4,
 "nbformat_minor": 2
}
